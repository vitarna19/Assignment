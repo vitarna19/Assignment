{
 "cells": [
  {
   "cell_type": "markdown",
   "id": "96d879a7",
   "metadata": {},
   "source": [
    "# NYC Taxi Dataset Analysis\n",
    "This notebook uses PySpark to analyze the NYC Yellow Taxi dataset for January 2018.\n",
    "Ensure you have PySpark installed locally to run this notebook."
   ]
  },
  {
   "cell_type": "code",
   "execution_count": 1,
   "id": "7ef98f04",
   "metadata": {},
   "outputs": [
    {
     "ename": "ModuleNotFoundError",
     "evalue": "No module named 'pyspark'",
     "output_type": "error",
     "traceback": [
      "\u001b[1;31m---------------------------------------------------------------------------\u001b[0m",
      "\u001b[1;31mModuleNotFoundError\u001b[0m                       Traceback (most recent call last)",
      "Cell \u001b[1;32mIn[1], line 1\u001b[0m\n\u001b[1;32m----> 1\u001b[0m \u001b[38;5;28;01mfrom\u001b[39;00m\u001b[38;5;250m \u001b[39m\u001b[38;5;21;01mpyspark\u001b[39;00m\u001b[38;5;21;01m.\u001b[39;00m\u001b[38;5;21;01msql\u001b[39;00m\u001b[38;5;250m \u001b[39m\u001b[38;5;28;01mimport\u001b[39;00m SparkSession\n\u001b[0;32m      2\u001b[0m spark \u001b[38;5;241m=\u001b[39m SparkSession\u001b[38;5;241m.\u001b[39mbuilder\u001b[38;5;241m.\u001b[39mappName(\u001b[38;5;124m'\u001b[39m\u001b[38;5;124mNYC Taxi Analysis\u001b[39m\u001b[38;5;124m'\u001b[39m)\u001b[38;5;241m.\u001b[39mgetOrCreate()\n",
      "\u001b[1;31mModuleNotFoundError\u001b[0m: No module named 'pyspark'"
     ]
    }
   ],
   "source": [
    "from pyspark.sql import SparkSession\n",
    "spark = SparkSession.builder.appName('NYC Taxi Analysis').getOrCreate()"
   ]
  },
  {
   "cell_type": "code",
   "execution_count": null,
   "id": "9eb1efc7",
   "metadata": {},
   "outputs": [],
   "source": [
    "df = spark.read.parquet('data/yellow_tripdata_2018-01.parquet')\n",
    "df.printSchema()\n",
    "df.show(5)"
   ]
  },
  {
   "cell_type": "code",
   "execution_count": null,
   "id": "df829d1b",
   "metadata": {},
   "outputs": [],
   "source": [
    "# Query 1 - Add Revenue Column\n",
    "from pyspark.sql.functions import col\n",
    "df = df.withColumn(\n",
    "    'Revenue',\n",
    "    col('fare_amount') + col('extra') + col('mta_tax') +\n",
    "    col('improvement_surcharge') + col('tip_amount') +\n",
    "    col('tolls_amount') + col('total_amount')\n",
    ")\n",
    "df.select('Revenue').show(5)"
   ]
  },
  {
   "cell_type": "code",
   "execution_count": null,
   "id": "f1b5dab0",
   "metadata": {},
   "outputs": [],
   "source": [
    "# Query 2 - Passenger count by area\n",
    "df.groupBy('PULocationID').sum('passenger_count').withColumnRenamed('sum(passenger_count)', 'total_passengers').show()"
   ]
  },
  {
   "cell_type": "code",
   "execution_count": null,
   "id": "90c1f09e",
   "metadata": {},
   "outputs": [],
   "source": [
    "# Query 3 - Average fare / earnings by vendor\n",
    "from pyspark.sql.functions import avg, round\n",
    "df.groupBy('VendorID').agg(\n",
    "    round(avg('fare_amount'), 2).alias('avg_fare'),\n",
    "    round(avg('total_amount'), 2).alias('avg_earning')\n",
    ").show()"
   ]
  },
  {
   "cell_type": "code",
   "execution_count": null,
   "id": "20656ed6",
   "metadata": {},
   "outputs": [],
   "source": [
    "# Query 4 - Count by payment mode\n",
    "from pyspark.sql.functions import count\n",
    "df.groupBy('payment_type').agg(count('*').alias('payment_count')).show()"
   ]
  },
  {
   "cell_type": "code",
   "execution_count": null,
   "id": "801d9b54",
   "metadata": {},
   "outputs": [],
   "source": [
    "# Query 5 - Top 2 vendors on a specific date\n",
    "from pyspark.sql.functions import to_date, sum\n",
    "df = df.withColumn('trip_date', to_date('tpep_pickup_datetime'))\n",
    "df.filter(df.trip_date == '2018-01-15') \\\n",
    "  .groupBy('VendorID') \\\n",
    "  .agg(sum('passenger_count').alias('total_passengers'),\n",
    "       sum('trip_distance').alias('total_distance'),\n",
    "       sum('total_amount').alias('total_earning')) \\\n",
    "  .orderBy(col('total_earning').desc()) \\\n",
    "  .limit(2).show()"
   ]
  },
  {
   "cell_type": "code",
   "execution_count": null,
   "id": "ad86103b",
   "metadata": {},
   "outputs": [],
   "source": [
    "# Query 6 - Route with most passengers\n",
    "df.groupBy('PULocationID', 'DOLocationID') \\\n",
    "  .sum('passenger_count') \\\n",
    "  .orderBy(col('sum(passenger_count)').desc()) \\\n",
    "  .show(1)"
   ]
  },
  {
   "cell_type": "code",
   "execution_count": null,
   "id": "a36030c0",
   "metadata": {},
   "outputs": [],
   "source": [
    "# Query 7 - Top pickup locations in last 10 seconds (simulated)\n",
    "from pyspark.sql.functions import max, unix_timestamp, lit\n",
    "max_time = df.agg(max('tpep_pickup_datetime')).collect()[0][0]\n",
    "filtered_df = df.filter(\n",
    "    unix_timestamp('tpep_pickup_datetime') >= unix_timestamp(lit(max_time)) - 10\n",
    ")\n",
    "filtered_df.groupBy('PULocationID').sum('passenger_count').orderBy(col('sum(passenger_count)').desc()).show()"
   ]
  }
 ],
 "metadata": {
  "kernelspec": {
   "display_name": "Python 3",
   "language": "python",
   "name": "python3"
  },
  "language_info": {
   "codemirror_mode": {
    "name": "ipython",
    "version": 3
   },
   "file_extension": ".py",
   "mimetype": "text/x-python",
   "name": "python",
   "nbconvert_exporter": "python",
   "pygments_lexer": "ipython3",
   "version": "3.12.4"
  }
 },
 "nbformat": 4,
 "nbformat_minor": 5
}
